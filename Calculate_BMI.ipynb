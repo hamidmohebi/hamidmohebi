{
  "nbformat": 4,
  "nbformat_minor": 0,
  "metadata": {
    "colab": {
      "name": "Calculate BMI.ipynb",
      "provenance": [],
      "authorship_tag": "ABX9TyOZR6BEqRzwXbMdg92JTboz",
      "include_colab_link": true
    },
    "kernelspec": {
      "name": "python3",
      "display_name": "Python 3"
    },
    "language_info": {
      "name": "python"
    }
  },
  "cells": [
    {
      "cell_type": "markdown",
      "metadata": {
        "id": "view-in-github",
        "colab_type": "text"
      },
      "source": [
        "<a href=\"https://colab.research.google.com/github/hamidmohebi/hamidmohebi/blob/main/Calculate_BMI.ipynb\" target=\"_parent\"><img src=\"https://colab.research.google.com/assets/colab-badge.svg\" alt=\"Open In Colab\"/></a>"
      ]
    },
    {
      "cell_type": "code",
      "execution_count": 10,
      "metadata": {
        "colab": {
          "base_uri": "https://localhost:8080/"
        },
        "id": "GTdUZtiQVqM1",
        "outputId": "1b681e6f-c9af-4ac7-b57a-6951b7ae4142"
      },
      "outputs": [
        {
          "output_type": "stream",
          "name": "stdout",
          "text": [
            "Please Enter You  height in cm :\n",
            "178\n",
            "Please Enter Your weight in Kg:\n",
            "98\n",
            "Your Body Mass index(BMI) is : 30.930438076000502\n",
            "you are very overweight!\n"
          ]
        }
      ],
      "source": [
        "# this code Calculate Body Mass Index (BMI)\n",
        "\n",
        "height = float (input ('Please Enter You  height in cm :\\n'))\n",
        "weight = float (input ('Please Enter Your weight in Kg:\\n'))\n",
        "height = height / 100\n",
        "BMI = weight / (height * height)\n",
        "print('Your Body Mass index(BMI) is :' ,BMI )\n",
        "\n",
        "if BMI>0:\n",
        "  if BMI<=0:\n",
        "    print('You are severely underweight!')\n",
        "  elif BMI<=18.5:\n",
        "    print('you are underweight!')\n",
        "  elif BMI<=25:\n",
        "    print('you are healthy!')\n",
        "  elif BMI<=30:\n",
        "    print('you are overweight!')\n",
        "  else:\n",
        "    print('you are very overweight!')\n",
        "\n",
        "else:\n",
        "  print('Please enter valid details!')\n",
        "\n",
        "\n",
        "\n",
        "\n",
        "\n",
        " \n",
        "   \n",
        "\n"
      ]
    }
  ]
}